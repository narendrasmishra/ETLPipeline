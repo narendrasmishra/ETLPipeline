{
 "cells": [
  {
   "cell_type": "code",
   "execution_count": 1,
   "metadata": {},
   "outputs": [],
   "source": [
    "from pyspark.sql import SparkSession\n",
    "from pyspark.sql import SQLContext\n",
    "\n",
    "scSpark   = SparkSession.builder.appName(\"reading csv\").getOrCreate()"
   ]
  },
  {
   "cell_type": "code",
   "execution_count": 2,
   "metadata": {},
   "outputs": [
    {
     "name": "stdout",
     "output_type": "stream",
     "text": [
      "+--------------+-----+\n",
      "|customer_state|count|\n",
      "+--------------+-----+\n",
      "|            SC| 3637|\n",
      "|            RO|  253|\n",
      "|            PI|  495|\n",
      "|            AM|  148|\n",
      "|            RR|   46|\n",
      "|            GO| 2020|\n",
      "|            TO|  280|\n",
      "|            MT|  907|\n",
      "|            SP|41746|\n",
      "|            ES| 2033|\n",
      "|            PB|  536|\n",
      "|            RS| 5466|\n",
      "|            MS|  715|\n",
      "|            AL|  413|\n",
      "|            MG|11635|\n",
      "|            PA|  975|\n",
      "|            BA| 3380|\n",
      "|            SE|  350|\n",
      "|            PE| 1652|\n",
      "|            CE| 1336|\n",
      "+--------------+-----+\n",
      "only showing top 20 rows\n",
      "\n",
      "None\n"
     ]
    }
   ],
   "source": [
    "data_file = 'olist_customers_dataset.csv'\n",
    "customer_data = scSpark.read.csv(data_file, header=True, sep=\",\").cache()\n",
    "    \n",
    "state = customer_data.groupBy('customer_state').count()\n",
    "print(state.show())"
   ]
  },
  {
   "cell_type": "code",
   "execution_count": 3,
   "metadata": {},
   "outputs": [
    {
     "name": "stdout",
     "output_type": "stream",
     "text": [
      "+--------------------+--------------------+------------------------+-------------+--------------+\n",
      "|         customer_id|  customer_unique_id|customer_zip_code_prefix|customer_city|customer_state|\n",
      "+--------------------+--------------------+------------------------+-------------+--------------+\n",
      "|4e7b3e00288586ebd...|060e732b5b29e8181...|                   01151|    sao paulo|            SP|\n",
      "|fd826e7cf63160e53...|addec96d2e059c80c...|                   04534|    sao paulo|            SP|\n",
      "|eabebad39a88bb6f5...|295c05e81917928d7...|                   05704|    sao paulo|            SP|\n",
      "|9b8ce803689b3562d...|7f3a72e8f988c6e73...|                   05416|    sao paulo|            SP|\n",
      "|2938121a40a20953c...|482441ea6a06b1f72...|                   05713|    sao paulo|            SP|\n",
      "|cb721d7b4f271fd87...|a5844ba4bfc8d0cc6...|                   08225|    sao paulo|            SP|\n",
      "|6e359a57a91f84095...|2e6a42a9b5cbb0da6...|                   04571|    sao paulo|            SP|\n",
      "|e3109970a3fe8021d...|a8654e2af5da6bb72...|                   05528|    sao paulo|            SP|\n",
      "|a3b0fda37bae14cf7...|c9158d089637ab443...|                   05727|    sao paulo|            SP|\n",
      "|d3b6830d18c7de943...|27cf4b153010911a0...|                   05351|    sao paulo|            SP|\n",
      "|a9b0d1c26105279e1...|3d49f4455a3947c8d...|                   05017|    sao paulo|            SP|\n",
      "|03f846ad03437d864...|7677c213007e9a6ec...|                   02075|    sao paulo|            SP|\n",
      "|0aae2862f8eac77f1...|cd076285a12f40041...|                   05890|    sao paulo|            SP|\n",
      "|6c9a5923526346cbc...|cf6d4152d758efc43...|                   03733|    sao paulo|            SP|\n",
      "|8264e3518163dd092...|67d21c8bea9d6017d...|                   05415|    sao paulo|            SP|\n",
      "|38d1cd89306128348...|d491a65a6ef3c04e1...|                   04548|    sao paulo|            SP|\n",
      "|5a3260cfde2a918b5...|6d3f61e35d0422fd8...|                   02175|    sao paulo|            SP|\n",
      "|09241c552e9fe2420...|44e9a1246448bd68a...|                   04537|    sao paulo|            SP|\n",
      "|23e96758fd640560e...|9e1f719fe5b17b9c5...|                   05565|    sao paulo|            SP|\n",
      "|369708cabd9831ea6...|94b731a41867b47c3...|                   03636|    sao paulo|            SP|\n",
      "+--------------------+--------------------+------------------------+-------------+--------------+\n",
      "only showing top 20 rows\n",
      "\n"
     ]
    }
   ],
   "source": [
    "customer_data.registerTempTable(\"customers\")\n",
    "output =  scSpark.sql(\"SELECT * from customers WHERE customer_state = 'SP' AND customer_city='sao paulo'\")\n",
    "output.show()"
   ]
  },
  {
   "cell_type": "code",
   "execution_count": 4,
   "metadata": {},
   "outputs": [],
   "source": [
    "output.write.format('json').save('customers_data.json')"
   ]
  },
  {
   "cell_type": "code",
   "execution_count": 5,
   "metadata": {},
   "outputs": [],
   "source": [
    "scSpark = SparkSession.builder.appName(\"reading csv\").config(\"spark.driver.extraClassPath\", \"C:\\spark\\spark\\jars\\mysql-connector-java-5.1.48.jar\").getOrCreate()"
   ]
  },
  {
   "cell_type": "code",
   "execution_count": 8,
   "metadata": {},
   "outputs": [],
   "source": [
    "output = scSpark.sql('SELECT customer_state, customer_city, COUNT(*) as Total from customers GROUP BY customer_state, customer_city')\n",
    "#output.show()\n",
    "output.write.format('jdbc').options(\n",
    "    url='jdbc:mysql://localhost:3306/ecommerce',\n",
    "    driver='com.mysql.cj.jdbc.Driver',\n",
    "    dbtable='customer_data',\n",
    "    user='root',\n",
    "    password='Gurukrupa104#').mode('append').save()"
   ]
  },
  {
   "cell_type": "code",
   "execution_count": null,
   "metadata": {},
   "outputs": [],
   "source": []
  }
 ],
 "metadata": {
  "kernelspec": {
   "display_name": "Python 3",
   "language": "python",
   "name": "python3"
  },
  "language_info": {
   "codemirror_mode": {
    "name": "ipython",
    "version": 3
   },
   "file_extension": ".py",
   "mimetype": "text/x-python",
   "name": "python",
   "nbconvert_exporter": "python",
   "pygments_lexer": "ipython3",
   "version": "3.7.1"
  }
 },
 "nbformat": 4,
 "nbformat_minor": 2
}
